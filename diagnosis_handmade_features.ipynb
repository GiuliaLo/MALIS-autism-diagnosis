{
 "cells": [
  {
   "cell_type": "code",
   "execution_count": 147,
   "outputs": [],
   "source": [
    "import matplotlib.pyplot as plt\n",
    "import numpy as np\n",
    "\n",
    "features = np.load('../ABIDEII/data/features.npz')['x']\n",
    "labels = np.load(\"../ABIDEII/data/labels.npy\")\n",
    "sex = np.load(\"../ABIDEII/data/sex.npy\")\n",
    "features_transformed = np.load('../ABIDEII/data/features_transformed.npz')['x']"
   ],
   "metadata": {
    "collapsed": false,
    "pycharm": {
     "name": "#%%\n"
    }
   }
  },
  {
   "cell_type": "code",
   "execution_count": 148,
   "outputs": [
    {
     "name": "stdout",
     "output_type": "stream",
     "text": [
      "Correlation matrix features: (403, 903)\n",
      "Connectivity matrix features: (403, 903)\n",
      "Category labels: 403\n",
      "Sex labels: 403\n"
     ]
    }
   ],
   "source": [
    "# check dimensions\n",
    "print(\"Correlation matrix features:\", features.shape)\n",
    "print(\"Connectivity matrix features:\", features_transformed.shape)\n",
    "print(\"Category labels:\",len(labels))\n",
    "print(\"Sex labels:\",len(sex))"
   ],
   "metadata": {
    "collapsed": false,
    "pycharm": {
     "name": "#%%\n"
    }
   }
  },
  {
   "cell_type": "code",
   "execution_count": 149,
   "outputs": [
    {
     "name": "stdout",
     "output_type": "stream",
     "text": [
      "Dummy Accuracy score (most frequent) : 0.4752475247524752\n",
      "Dummy Accuracy score (stratified) : 0.5544554455445545\n"
     ]
    }
   ],
   "source": [
    "# baseline dummy\n",
    "from sklearn.dummy import DummyClassifier\n",
    "from sklearn.model_selection import train_test_split\n",
    "from sklearn.metrics import accuracy_score\n",
    "\n",
    "X_train, X_test, y_train, y_test = train_test_split(features, labels, test_size=0.25)\n",
    "\n",
    "dummy_classifier_mf = DummyClassifier(strategy=\"most_frequent\")\n",
    "dummy_classifier_mf.fit(X_train, y_train)\n",
    "\n",
    "y_hat = dummy_classifier_mf.predict(X_test)\n",
    "acc_mf = accuracy_score(y_test, y_hat)\n",
    "print(f\"Dummy Accuracy score (most frequent) : {acc_mf}\")\n",
    "\n",
    "dummy_classifier_strat = DummyClassifier(strategy=\"stratified\")\n",
    "dummy_classifier_strat.fit(X_train, y_train)\n",
    "\n",
    "y_hat = dummy_classifier_strat.predict(X_test)\n",
    "acc_strat = accuracy_score(y_test, y_hat)\n",
    "print(f\"Dummy Accuracy score (stratified) : {acc_strat}\")"
   ],
   "metadata": {
    "collapsed": false,
    "pycharm": {
     "name": "#%%\n"
    }
   }
  },
  {
   "cell_type": "markdown",
   "source": [
    "## Setting aside some samples for testing with only males/only females at the end"
   ],
   "metadata": {
    "collapsed": false,
    "pycharm": {
     "name": "#%% md\n"
    }
   }
  },
  {
   "cell_type": "code",
   "execution_count": 150,
   "outputs": [],
   "source": [
    "from sklearn.model_selection import train_test_split\n",
    "\n",
    "# shuffling before selection because the features are ordered by subject ID => grouped by site\n",
    "# random_state=int to have repeatable results\n",
    "# stratify=True to keep balance of the 2 classes\n",
    "\n",
    "# correlation matrix features\n",
    "X_train, X_test, y_train, y_test, sex_train, sex_test = train_test_split(features, labels, sex, test_size=0.15, shuffle=True, random_state=1, stratify=labels)\n",
    "\n",
    "# connectivity matrix features (Fisher's z-transformed correlation matrix)\n",
    "X_train_transformed, X_test_transformed, y_train_transformed, y_test_transformed, sex_train_transformed, sex_test_transformed = train_test_split(features_transformed, labels, sex, test_size=0.15, shuffle=True, random_state=1, stratify=labels)"
   ],
   "metadata": {
    "collapsed": false,
    "pycharm": {
     "name": "#%%\n"
    }
   }
  },
  {
   "cell_type": "markdown",
   "source": [
    "# Training"
   ],
   "metadata": {
    "collapsed": false,
    "pycharm": {
     "name": "#%% md\n"
    }
   }
  },
  {
   "cell_type": "markdown",
   "source": [
    "## Search of the best model using nested k-fold cross validation with grid search\n",
    "Using Repeated Stratified k-fold in inner cv"
   ],
   "metadata": {
    "collapsed": false,
    "pycharm": {
     "name": "#%% md\n"
    }
   }
  },
  {
   "cell_type": "markdown",
   "source": [
    "  ## Logistic Regression"
   ],
   "metadata": {
    "collapsed": false,
    "pycharm": {
     "name": "#%% md\n"
    }
   }
  },
  {
   "cell_type": "code",
   "execution_count": 151,
   "outputs": [
    {
     "name": "stdout",
     "output_type": "stream",
     "text": [
      ">Accuracy=0.551 (train: 0.805), Best score=0.538, Best param={'C': 0.2}\n",
      ">Accuracy=0.565 (train: 0.805), Best score=0.547, Best param={'C': 0.2}\n",
      ">Accuracy=0.559 (train: 0.820), Best score=0.573, Best param={'C': 0.09}\n",
      ">Accuracy=0.500 (train: 0.795), Best score=0.545, Best param={'C': 0.2}\n",
      ">Accuracy=0.588 (train: 0.816), Best score=0.608, Best param={'C': 0.1}\n",
      "LR: Accuracy: mean 0.553 (std 0.029)\n"
     ]
    }
   ],
   "source": [
    "from numpy import mean\n",
    "from numpy import std\n",
    "from sklearn.model_selection import StratifiedKFold, RepeatedStratifiedKFold\n",
    "from sklearn.model_selection import GridSearchCV\n",
    "from sklearn.linear_model import LogisticRegression\n",
    "\n",
    "cv_outer = StratifiedKFold(n_splits=5, shuffle=True, random_state=1)\n",
    "\n",
    "outer_results_lr = []\n",
    "outer_results_train_lr = []\n",
    "best_models_lr_corrmatrix = []\n",
    "for train_ix, test_ix in cv_outer.split(X_train, y_train):\n",
    "    X_train_nested, X_test_nested = X_train[train_ix, :], X_train[test_ix, :]\n",
    "    y_train_nested, y_test_nested = y_train[train_ix], y_train[test_ix]\n",
    "    # configure the cross-validation procedure\n",
    "    cv_inner = RepeatedStratifiedKFold(n_splits=5, n_repeats=10)\n",
    "\n",
    "    model_lr =LogisticRegression(solver=\"liblinear\", penalty=\"l1\")\n",
    "    # define search space\n",
    "    # p_grid = {\"C\": [0.001, 0.005, 0.01, 0.05, 0.1, 0.5, 1, 5]}  # first try: best param was either 0.1 or 0.5 -> try to fine-tune around this range\n",
    "    p_grid = {\"C\": [0.09, 0.1, 0.2, 0.3, 0.4, 0.5, 0.6]}\n",
    "    # define search\n",
    "    clf_lr = GridSearchCV(estimator=model_lr, param_grid=p_grid, cv=cv_inner, scoring='accuracy', n_jobs=1, return_train_score=True, refit=True)\n",
    "    # execute search\n",
    "    result_lr = clf_lr.fit(X_train_nested, y_train_nested)\n",
    "    # get the best performing model fit on the whole training set\n",
    "    best_model_lr = result_lr.best_estimator_\n",
    "    yhat_lr = best_model_lr.predict(X_test_nested)\n",
    "    # evaluate the model\n",
    "    acc_lr = accuracy_score(y_test_nested, yhat_lr)\n",
    "    acc_train_lr = clf_lr.cv_results_['mean_train_score']\n",
    "    # store the result\n",
    "    best_models_lr_corrmatrix.append(best_model_lr)\n",
    "    outer_results_lr.append(acc_lr)\n",
    "    outer_results_train_lr.append(acc_train_lr)\n",
    "    # report progress\n",
    "    print('>Accuracy=%.3f (train: %.3f), Best score=%.3f, Best param=%s' % (acc_lr, mean(acc_train_lr), result_lr.best_score_, result_lr.best_params_))\n",
    "# summarize the estimated performance of the model\n",
    "print('LR: Accuracy: mean %.3f (std %.3f)' % (mean(outer_results_lr), std(outer_results_lr)))"
   ],
   "metadata": {
    "collapsed": false,
    "pycharm": {
     "name": "#%%\n"
    }
   }
  },
  {
   "cell_type": "code",
   "execution_count": 153,
   "outputs": [
    {
     "data": {
      "text/plain": "{'mean_fit_time': array([0.00438705, 0.00459625, 0.00598361, 0.00662672, 0.00737833,\n        0.00794698, 0.00855151]),\n 'std_fit_time': array([0.00077147, 0.00056906, 0.00039296, 0.00028718, 0.00040374,\n        0.00036732, 0.00052848]),\n 'mean_score_time': array([0.00037796, 0.00035795, 0.00034422, 0.00033742, 0.00035975,\n        0.00035651, 0.00036337]),\n 'std_score_time': array([9.00270580e-05, 4.37719788e-05, 4.43796460e-05, 2.87928143e-05,\n        6.00327347e-05, 4.46770017e-05, 5.87536961e-05]),\n 'param_C': masked_array(data=[0.09, 0.1, 0.2, 0.3, 0.4, 0.5, 0.6],\n              mask=[False, False, False, False, False, False, False],\n        fill_value='?',\n             dtype=object),\n 'params': [{'C': 0.09},\n  {'C': 0.1},\n  {'C': 0.2},\n  {'C': 0.3},\n  {'C': 0.4},\n  {'C': 0.5},\n  {'C': 0.6}],\n 'split0_test_score': array([0.6       , 0.6       , 0.56363636, 0.6       , 0.54545455,\n        0.54545455, 0.58181818]),\n 'split1_test_score': array([0.6       , 0.65454545, 0.49090909, 0.54545455, 0.54545455,\n        0.50909091, 0.56363636]),\n 'split2_test_score': array([0.61818182, 0.65454545, 0.54545455, 0.63636364, 0.65454545,\n        0.63636364, 0.58181818]),\n 'split3_test_score': array([0.63636364, 0.65454545, 0.49090909, 0.50909091, 0.47272727,\n        0.47272727, 0.49090909]),\n 'split4_test_score': array([0.61111111, 0.59259259, 0.51851852, 0.55555556, 0.59259259,\n        0.61111111, 0.57407407]),\n 'split5_test_score': array([0.6       , 0.58181818, 0.54545455, 0.50909091, 0.6       ,\n        0.61818182, 0.61818182]),\n 'split6_test_score': array([0.61818182, 0.61818182, 0.56363636, 0.49090909, 0.47272727,\n        0.52727273, 0.52727273]),\n 'split7_test_score': array([0.54545455, 0.61818182, 0.54545455, 0.54545455, 0.54545455,\n        0.54545455, 0.52727273]),\n 'split8_test_score': array([0.49090909, 0.65454545, 0.58181818, 0.65454545, 0.63636364,\n        0.61818182, 0.6       ]),\n 'split9_test_score': array([0.62962963, 0.61111111, 0.59259259, 0.48148148, 0.5       ,\n        0.51851852, 0.5       ]),\n 'split10_test_score': array([0.56363636, 0.56363636, 0.47272727, 0.50909091, 0.49090909,\n        0.49090909, 0.50909091]),\n 'split11_test_score': array([0.6       , 0.61818182, 0.54545455, 0.56363636, 0.61818182,\n        0.6       , 0.58181818]),\n 'split12_test_score': array([0.67272727, 0.67272727, 0.54545455, 0.52727273, 0.52727273,\n        0.52727273, 0.54545455]),\n 'split13_test_score': array([0.58181818, 0.58181818, 0.49090909, 0.58181818, 0.58181818,\n        0.56363636, 0.54545455]),\n 'split14_test_score': array([0.59259259, 0.59259259, 0.66666667, 0.59259259, 0.57407407,\n        0.61111111, 0.61111111]),\n 'split15_test_score': array([0.67272727, 0.65454545, 0.56363636, 0.58181818, 0.56363636,\n        0.54545455, 0.54545455]),\n 'split16_test_score': array([0.56363636, 0.54545455, 0.49090909, 0.54545455, 0.54545455,\n        0.52727273, 0.47272727]),\n 'split17_test_score': array([0.47272727, 0.50909091, 0.49090909, 0.54545455, 0.49090909,\n        0.50909091, 0.52727273]),\n 'split18_test_score': array([0.49090909, 0.49090909, 0.52727273, 0.50909091, 0.47272727,\n        0.49090909, 0.47272727]),\n 'split19_test_score': array([0.59259259, 0.64814815, 0.5       , 0.55555556, 0.48148148,\n        0.51851852, 0.51851852]),\n 'split20_test_score': array([0.65454545, 0.65454545, 0.67272727, 0.67272727, 0.61818182,\n        0.56363636, 0.65454545]),\n 'split21_test_score': array([0.61818182, 0.61818182, 0.52727273, 0.56363636, 0.54545455,\n        0.54545455, 0.52727273]),\n 'split22_test_score': array([0.56363636, 0.56363636, 0.56363636, 0.56363636, 0.54545455,\n        0.52727273, 0.52727273]),\n 'split23_test_score': array([0.6       , 0.61818182, 0.54545455, 0.56363636, 0.56363636,\n        0.56363636, 0.54545455]),\n 'split24_test_score': array([0.62962963, 0.62962963, 0.51851852, 0.5       , 0.44444444,\n        0.5       , 0.53703704]),\n 'split25_test_score': array([0.52727273, 0.54545455, 0.56363636, 0.50909091, 0.58181818,\n        0.58181818, 0.61818182]),\n 'split26_test_score': array([0.58181818, 0.65454545, 0.54545455, 0.54545455, 0.58181818,\n        0.58181818, 0.58181818]),\n 'split27_test_score': array([0.54545455, 0.54545455, 0.49090909, 0.50909091, 0.52727273,\n        0.52727273, 0.47272727]),\n 'split28_test_score': array([0.6       , 0.6       , 0.52727273, 0.47272727, 0.50909091,\n        0.50909091, 0.49090909]),\n 'split29_test_score': array([0.61111111, 0.62962963, 0.59259259, 0.59259259, 0.61111111,\n        0.59259259, 0.57407407]),\n 'split30_test_score': array([0.58181818, 0.58181818, 0.6       , 0.61818182, 0.61818182,\n        0.63636364, 0.65454545]),\n 'split31_test_score': array([0.61818182, 0.61818182, 0.63636364, 0.49090909, 0.54545455,\n        0.6       , 0.61818182]),\n 'split32_test_score': array([0.65454545, 0.63636364, 0.50909091, 0.52727273, 0.6       ,\n        0.56363636, 0.58181818]),\n 'split33_test_score': array([0.58181818, 0.6       , 0.56363636, 0.65454545, 0.61818182,\n        0.6       , 0.56363636]),\n 'split34_test_score': array([0.55555556, 0.57407407, 0.53703704, 0.51851852, 0.53703704,\n        0.51851852, 0.53703704]),\n 'split35_test_score': array([0.63636364, 0.63636364, 0.58181818, 0.50909091, 0.52727273,\n        0.56363636, 0.56363636]),\n 'split36_test_score': array([0.54545455, 0.54545455, 0.54545455, 0.50909091, 0.52727273,\n        0.52727273, 0.50909091]),\n 'split37_test_score': array([0.61818182, 0.61818182, 0.58181818, 0.63636364, 0.69090909,\n        0.67272727, 0.67272727]),\n 'split38_test_score': array([0.61818182, 0.6       , 0.52727273, 0.56363636, 0.50909091,\n        0.49090909, 0.47272727]),\n 'split39_test_score': array([0.61111111, 0.61111111, 0.68518519, 0.62962963, 0.61111111,\n        0.55555556, 0.55555556]),\n 'split40_test_score': array([0.61818182, 0.61818182, 0.49090909, 0.45454545, 0.49090909,\n        0.54545455, 0.52727273]),\n 'split41_test_score': array([0.65454545, 0.61818182, 0.63636364, 0.58181818, 0.63636364,\n        0.6       , 0.6       ]),\n 'split42_test_score': array([0.63636364, 0.63636364, 0.50909091, 0.49090909, 0.49090909,\n        0.47272727, 0.41818182]),\n 'split43_test_score': array([0.6       , 0.63636364, 0.54545455, 0.52727273, 0.56363636,\n        0.49090909, 0.52727273]),\n 'split44_test_score': array([0.59259259, 0.59259259, 0.55555556, 0.59259259, 0.53703704,\n        0.51851852, 0.48148148]),\n 'split45_test_score': array([0.61818182, 0.54545455, 0.56363636, 0.52727273, 0.49090909,\n        0.52727273, 0.49090909]),\n 'split46_test_score': array([0.72727273, 0.72727273, 0.52727273, 0.52727273, 0.52727273,\n        0.54545455, 0.56363636]),\n 'split47_test_score': array([0.49090909, 0.65454545, 0.54545455, 0.56363636, 0.58181818,\n        0.54545455, 0.54545455]),\n 'split48_test_score': array([0.67272727, 0.67272727, 0.56363636, 0.50909091, 0.56363636,\n        0.6       , 0.6       ]),\n 'split49_test_score': array([0.51851852, 0.51851852, 0.5       , 0.48148148, 0.51851852,\n        0.48148148, 0.48148148]),\n 'mean_test_score': array([0.59670707, 0.60836364, 0.54969697, 0.54890909, 0.55251178,\n        0.55070034, 0.54777104]),\n 'std_test_score': array([0.05086678, 0.04600437, 0.04821713, 0.0512079 , 0.05380492,\n        0.04687648, 0.05307883]),\n 'rank_test_score': array([2, 1, 5, 6, 3, 4, 7], dtype=int32),\n 'split0_train_score': array([0.61187215, 0.64383562, 0.78082192, 0.85388128, 0.90410959,\n        0.93607306, 0.96347032]),\n 'split1_train_score': array([0.61643836, 0.63013699, 0.78538813, 0.84931507, 0.89497717,\n        0.94977169, 0.96803653]),\n 'split2_train_score': array([0.62557078, 0.63013699, 0.74885845, 0.8630137 , 0.91324201,\n        0.9543379 , 0.98630137]),\n 'split3_train_score': array([0.60730594, 0.62100457, 0.78538813, 0.88584475, 0.93150685,\n        0.95890411, 0.98173516]),\n 'split4_train_score': array([0.61363636, 0.64545455, 0.74545455, 0.85909091, 0.91363636,\n        0.94090909, 0.95909091]),\n 'split5_train_score': array([0.67123288, 0.66210046, 0.73059361, 0.85388128, 0.91780822,\n        0.9543379 , 0.97716895]),\n 'split6_train_score': array([0.62100457, 0.62100457, 0.7716895 , 0.84931507, 0.91324201,\n        0.94977169, 0.96803653]),\n 'split7_train_score': array([0.63013699, 0.63926941, 0.77625571, 0.89497717, 0.94520548,\n        0.96347032, 0.98173516]),\n 'split8_train_score': array([0.49315068, 0.62557078, 0.73972603, 0.88127854, 0.94063927,\n        0.95890411, 0.97716895]),\n 'split9_train_score': array([0.61363636, 0.64090909, 0.75909091, 0.88636364, 0.94545455,\n        0.96363636, 0.97727273]),\n 'split10_train_score': array([0.6347032 , 0.6347032 , 0.78995434, 0.86757991, 0.93150685,\n        0.97260274, 0.98630137]),\n 'split11_train_score': array([0.62557078, 0.6347032 , 0.73972603, 0.83561644, 0.91780822,\n        0.9543379 , 0.97260274]),\n 'split12_train_score': array([0.62557078, 0.62100457, 0.80821918, 0.89497717, 0.92237443,\n        0.94977169, 0.98173516]),\n 'split13_train_score': array([0.62100457, 0.62100457, 0.74885845, 0.84474886, 0.88584475,\n        0.94063927, 0.96347032]),\n 'split14_train_score': array([0.62727273, 0.62727273, 0.73636364, 0.84545455, 0.90454545,\n        0.95454545, 0.97727273]),\n 'split15_train_score': array([0.62557078, 0.63013699, 0.7260274 , 0.85388128, 0.89497717,\n        0.94520548, 0.96803653]),\n 'split16_train_score': array([0.57534247, 0.57077626, 0.79452055, 0.89041096, 0.92694064,\n        0.96347032, 0.98173516]),\n 'split17_train_score': array([0.66210046, 0.65296804, 0.73515982, 0.85844749, 0.9086758 ,\n        0.93607306, 0.95890411]),\n 'split18_train_score': array([0.49315068, 0.49315068, 0.79452055, 0.91780822, 0.95890411,\n        0.97716895, 0.98173516]),\n 'split19_train_score': array([0.62727273, 0.66363636, 0.79090909, 0.86818182, 0.90909091,\n        0.95      , 0.98181818]),\n 'split20_train_score': array([0.61187215, 0.61187215, 0.73972603, 0.84474886, 0.9086758 ,\n        0.95890411, 0.97716895]),\n 'split21_train_score': array([0.64383562, 0.63926941, 0.72146119, 0.8630137 , 0.92694064,\n        0.95890411, 0.99086758]),\n 'split22_train_score': array([0.62557078, 0.63013699, 0.76712329, 0.85388128, 0.9086758 ,\n        0.9543379 , 0.97260274]),\n 'split23_train_score': array([0.62557078, 0.62557078, 0.77625571, 0.88127854, 0.92694064,\n        0.94977169, 0.97716895]),\n 'split24_train_score': array([0.61818182, 0.62272727, 0.75      , 0.88636364, 0.92727273,\n        0.96818182, 0.99545455]),\n 'split25_train_score': array([0.64840183, 0.66666667, 0.74429224, 0.84474886, 0.9086758 ,\n        0.94520548, 0.97260274]),\n 'split26_train_score': array([0.62100457, 0.62557078, 0.73515982, 0.86757991, 0.91324201,\n        0.9543379 , 0.97716895]),\n 'split27_train_score': array([0.63926941, 0.63926941, 0.81278539, 0.87671233, 0.91780822,\n        0.94063927, 0.95890411]),\n 'split28_train_score': array([0.61643836, 0.61643836, 0.77625571, 0.85844749, 0.92237443,\n        0.95890411, 0.97260274]),\n 'split29_train_score': array([0.61363636, 0.61363636, 0.74090909, 0.83181818, 0.90909091,\n        0.95909091, 0.98181818]),\n 'split30_train_score': array([0.63013699, 0.63013699, 0.76255708, 0.84018265, 0.92237443,\n        0.96347032, 0.98173516]),\n 'split31_train_score': array([0.61187215, 0.61187215, 0.76712329, 0.88584475, 0.92237443,\n        0.9543379 , 0.96803653]),\n 'split32_train_score': array([0.61643836, 0.65296804, 0.78082192, 0.8630137 , 0.91324201,\n        0.95890411, 0.96347032]),\n 'split33_train_score': array([0.62100457, 0.6347032 , 0.78538813, 0.86757991, 0.92694064,\n        0.9543379 , 0.97260274]),\n 'split34_train_score': array([0.64545455, 0.65454545, 0.74545455, 0.85909091, 0.89545455,\n        0.95      , 0.97272727]),\n 'split35_train_score': array([0.61643836, 0.61643836, 0.78082192, 0.87671233, 0.91324201,\n        0.9543379 , 0.97260274]),\n 'split36_train_score': array([0.65753425, 0.65753425, 0.75799087, 0.84018265, 0.91324201,\n        0.94520548, 1.        ]),\n 'split37_train_score': array([0.62100457, 0.62100457, 0.71232877, 0.84931507, 0.90410959,\n        0.94520548, 0.99086758]),\n 'split38_train_score': array([0.59817352, 0.57534247, 0.78538813, 0.89041096, 0.93150685,\n        0.96803653, 0.99086758]),\n 'split39_train_score': array([0.61363636, 0.61363636, 0.73636364, 0.84090909, 0.92727273,\n        0.96363636, 0.96818182]),\n 'split40_train_score': array([0.62557078, 0.64383562, 0.78538813, 0.84018265, 0.90410959,\n        0.95890411, 1.        ]),\n 'split41_train_score': array([0.61187215, 0.57990868, 0.71232877, 0.83561644, 0.91780822,\n        0.95890411, 0.96347032]),\n 'split42_train_score': array([0.61643836, 0.61643836, 0.76255708, 0.85388128, 0.91324201,\n        0.94977169, 0.96803653]),\n 'split43_train_score': array([0.63926941, 0.65753425, 0.77625571, 0.84018265, 0.90410959,\n        0.93607306, 0.96803653]),\n 'split44_train_score': array([0.61818182, 0.61818182, 0.77272727, 0.86818182, 0.93181818,\n        0.95909091, 0.96818182]),\n 'split45_train_score': array([0.60730594, 0.5890411 , 0.74429224, 0.87214612, 0.92694064,\n        0.96803653, 0.98173516]),\n 'split46_train_score': array([0.59360731, 0.59360731, 0.73515982, 0.84018265, 0.91780822,\n        0.96347032, 0.98173516]),\n 'split47_train_score': array([0.49315068, 0.61187215, 0.74885845, 0.8630137 , 0.94520548,\n        0.96803653, 0.97260274]),\n 'split48_train_score': array([0.63013699, 0.62100457, 0.74429224, 0.85388128, 0.90410959,\n        0.94520548, 0.96803653]),\n 'split49_train_score': array([0.66818182, 0.66818182, 0.74090909, 0.85      , 0.90909091,\n        0.94090909, 0.96818182]),\n 'mean_train_score': array([0.61641469, 0.6253545 , 0.75977003, 0.86186343, 0.91788377,\n        0.95456164, 0.97582192]),\n 'std_train_score': array([0.03559797, 0.02887046, 0.024478  , 0.01899436, 0.01436464,\n        0.00961374, 0.00996232])}"
     },
     "execution_count": 153,
     "metadata": {},
     "output_type": "execute_result"
    }
   ],
   "source": [
    "clf_lr.cv_results_"
   ],
   "metadata": {
    "collapsed": false,
    "pycharm": {
     "name": "#%%\n"
    }
   }
  },
  {
   "cell_type": "markdown",
   "source": [
    "## SVM"
   ],
   "metadata": {
    "collapsed": false
   }
  },
  {
   "cell_type": "code",
   "execution_count": 154,
   "outputs": [
    {
     "name": "stdout",
     "output_type": "stream",
     "text": [
      ">Accuracy=0.551 (train: 0.909), Best score=0.563, Best param={'C': 0.008}\n",
      ">Accuracy=0.580 (train: 0.911), Best score=0.560, Best param={'C': 0.009}\n",
      ">Accuracy=0.559 (train: 0.926), Best score=0.568, Best param={'C': 0.013}\n",
      ">Accuracy=0.603 (train: 0.916), Best score=0.538, Best param={'C': 0.008}\n",
      ">Accuracy=0.574 (train: 0.928), Best score=0.565, Best param={'C': 0.013}\n",
      "SVM: Accuracy: mean 0.573 (std 0.018)\n"
     ]
    }
   ],
   "source": [
    "from sklearn.svm import SVC\n",
    "\n",
    "cv_outer = StratifiedKFold(n_splits=5, shuffle=True, random_state=1)\n",
    "\n",
    "outer_results_svm = []\n",
    "outer_results_train_svm = []\n",
    "best_models_svm_corrmatrix = []\n",
    "for train_ix, test_ix in cv_outer.split(X_train, y_train):\n",
    "    X_train_nested, X_test_nested = X_train[train_ix, :], X_train[test_ix, :]\n",
    "    y_train_nested, y_test_nested = y_train[train_ix], y_train[test_ix]\n",
    "    # configure the cross-validation procedure\n",
    "    cv_inner = RepeatedStratifiedKFold(n_splits=5, n_repeats=10)\n",
    "\n",
    "    model_svm = SVC(kernel=\"linear\")\n",
    "    # define search space\n",
    "    # p_grid = {\"C\": [0.001, 0.005, 0.01, 0.05, 0.1, 0.5, 1, 5]}  # first try: best param was 0.01 -> try to fine-tune around this range\n",
    "    p_grid = {\"C\": [0.007, 0.008, 0.009, 0.01, 0.011, 0.012, 0.013]}    # define search\n",
    "    clf_svm = GridSearchCV(estimator=model_svm, param_grid=p_grid, cv=cv_inner, return_train_score=True,  n_jobs=1, refit=True)\n",
    "    # execute search\n",
    "    result_svm = clf_svm.fit(X_train_nested, y_train_nested)\n",
    "    # get the best performing model fit on the whole training set\n",
    "    best_model_svm = result_svm.best_estimator_\n",
    "    yhat_svm = best_model_svm.predict(X_test_nested)\n",
    "    # evaluate the model\n",
    "    acc_svm = accuracy_score(y_test_nested, yhat_svm)\n",
    "    acc_train_svm = clf_svm.cv_results_['mean_train_score']\n",
    "    # store the result\n",
    "    best_models_svm_corrmatrix.append(best_model_svm)\n",
    "    outer_results_svm.append(acc_svm)\n",
    "    outer_results_train_svm.append(acc_train_svm)\n",
    "    # report progress\n",
    "    print('>Accuracy=%.3f (train: %.3f), Best score=%.3f, Best param=%s' % (acc_svm, mean(acc_train_svm), result_svm.best_score_, result_svm.best_params_))\n",
    "# summarize the estimated performance of the model\n",
    "print('SVM: Accuracy: mean %.3f (std %.3f)' % (mean(outer_results_svm), std(outer_results_svm)))"
   ],
   "metadata": {
    "collapsed": false,
    "pycharm": {
     "name": "#%%\n"
    }
   }
  },
  {
   "cell_type": "markdown",
   "source": [
    "# Testing"
   ],
   "metadata": {
    "collapsed": false,
    "pycharm": {
     "name": "#%% md\n"
    }
   }
  },
  {
   "cell_type": "markdown",
   "source": [
    "Divide the testing set in male and female sets"
   ],
   "metadata": {
    "collapsed": false
   }
  },
  {
   "cell_type": "code",
   "execution_count": 155,
   "outputs": [],
   "source": [
    "X_females_test = []\n",
    "y_females_test = []\n",
    "X_males_test = []\n",
    "y_males_test = []\n",
    "for i in range(len(X_test)):\n",
    "    if sex_test[i] == 1:\n",
    "        X_males_test.append(X_test[i])\n",
    "        y_males_test.append(y_test[i])\n",
    "    else:\n",
    "        X_females_test.append(X_test[i])\n",
    "        y_females_test.append(y_test[i])\n",
    "\n",
    "X_females_test_transformed = []\n",
    "y_females_test_transformed = []\n",
    "X_males_test_transformed = []\n",
    "y_males_test_transformed = []\n",
    "for i in range(len(X_test_transformed)):\n",
    "    if sex_test_transformed[i] == 1:\n",
    "        X_males_test_transformed.append(X_test_transformed[i])\n",
    "        y_males_test_transformed.append(y_test_transformed[i])\n",
    "    else:\n",
    "        X_females_test_transformed.append(X_test_transformed[i])\n",
    "        y_females_test_transformed.append(y_test_transformed[i])"
   ],
   "metadata": {
    "collapsed": false,
    "pycharm": {
     "name": "#%%\n"
    }
   }
  },
  {
   "cell_type": "code",
   "execution_count": 156,
   "outputs": [
    {
     "name": "stdout",
     "output_type": "stream",
     "text": [
      "Female test set size:  27\n",
      "Male test set size:  34\n"
     ]
    }
   ],
   "source": [
    "print(\"Female test set size: \",len(X_females_test))\n",
    "print(\"Male test set size: \", len(X_males_test))"
   ],
   "metadata": {
    "collapsed": false,
    "pycharm": {
     "name": "#%%\n"
    }
   }
  },
  {
   "cell_type": "code",
   "execution_count": 157,
   "outputs": [
    {
     "data": {
      "text/plain": "[0.4444444444444444,\n 0.48148148148148145,\n 0.7037037037037037,\n 0.4074074074074074,\n 0.6666666666666666]"
     },
     "execution_count": 157,
     "metadata": {},
     "output_type": "execute_result"
    }
   ],
   "source": [
    "scores_f_lr = []\n",
    "for model in best_models_lr_corrmatrix:\n",
    "    pred_f = model.predict(X_females_test)\n",
    "    acc_f = accuracy_score(y_females_test, pred_f)\n",
    "    scores_f_lr.append(acc_f)\n",
    "scores_f_lr"
   ],
   "metadata": {
    "collapsed": false,
    "pycharm": {
     "name": "#%%\n"
    }
   }
  },
  {
   "cell_type": "code",
   "execution_count": 158,
   "outputs": [
    {
     "data": {
      "text/plain": "[0.6764705882352942,\n 0.5588235294117647,\n 0.38235294117647056,\n 0.6176470588235294,\n 0.5294117647058824]"
     },
     "execution_count": 158,
     "metadata": {},
     "output_type": "execute_result"
    }
   ],
   "source": [
    "scores_m_lr = []\n",
    "for model in best_models_lr_corrmatrix:\n",
    "    pred_m = model.predict(X_males_test)\n",
    "    acc_m = accuracy_score(y_males_test, pred_m)\n",
    "    scores_m_lr.append(acc_m)\n",
    "scores_m_lr"
   ],
   "metadata": {
    "collapsed": false,
    "pycharm": {
     "name": "#%%\n"
    }
   }
  },
  {
   "cell_type": "code",
   "execution_count": 159,
   "outputs": [
    {
     "data": {
      "text/plain": "[0.4074074074074074,\n 0.5555555555555556,\n 0.5185185185185185,\n 0.48148148148148145,\n 0.5185185185185185]"
     },
     "execution_count": 159,
     "metadata": {},
     "output_type": "execute_result"
    }
   ],
   "source": [
    "scores_f_svm = []\n",
    "for model in best_models_svm_corrmatrix:\n",
    "    pred_f = model.predict(X_females_test)\n",
    "    acc_f = accuracy_score(y_females_test, pred_f)\n",
    "    scores_f_svm.append(acc_f)\n",
    "scores_f_svm"
   ],
   "metadata": {
    "collapsed": false,
    "pycharm": {
     "name": "#%%\n"
    }
   }
  },
  {
   "cell_type": "code",
   "execution_count": 160,
   "outputs": [
    {
     "data": {
      "text/plain": "[0.6176470588235294,\n 0.5294117647058824,\n 0.6470588235294118,\n 0.6470588235294118,\n 0.5588235294117647]"
     },
     "execution_count": 160,
     "metadata": {},
     "output_type": "execute_result"
    }
   ],
   "source": [
    "scores_m_svm = []\n",
    "for model in best_models_svm_corrmatrix:\n",
    "    pred_m = model.predict(X_males_test)\n",
    "    acc_m = accuracy_score(y_males_test, pred_m)\n",
    "    scores_m_svm.append(acc_m)\n",
    "scores_m_svm"
   ],
   "metadata": {
    "collapsed": false,
    "pycharm": {
     "name": "#%%\n"
    }
   }
  },
  {
   "cell_type": "code",
   "execution_count": 161,
   "outputs": [
    {
     "data": {
      "text/plain": "<Figure size 432x288 with 1 Axes>",
      "image/png": "[encoded data removed]"
     },
     "metadata": {
      "needs_background": "light"
     },
     "output_type": "display_data"
    }
   ],
   "source": [
    "index = np.arange(len(scores_m_lr))\n",
    "bar_width = 0.15\n",
    "\n",
    "fig, ax = plt.subplots()\n",
    "lr_m = ax.bar(index, scores_m_lr, bar_width,\n",
    "                label=\"LR on males\", color='royalblue')\n",
    "\n",
    "svm_m = ax.bar(index+bar_width, scores_m_svm, bar_width,\n",
    "                label=\"SVM on males\", color=\"cornflowerblue\")\n",
    "\n",
    "lr_f = ax.bar(index+2.6*bar_width, scores_f_lr,\n",
    "                 bar_width, label=\"LR on females\", color=\"palevioletred\")\n",
    "\n",
    "svm_f = ax.bar(index+3.6*bar_width, scores_f_svm,\n",
    "                 bar_width, label=\"SVM on females\", color=\"lightpink\")\n",
    "\n",
    "ax.set_xlabel('Models')\n",
    "ax.set_ylabel('Accuracy')\n",
    "ax.set_title('Comparison of testing accuracy by classifier and by sex')\n",
    "ax.set_xticks(index + 3.6*bar_width / 2)\n",
    "ax.set_xticklabels(np.arange(len(scores_m_lr))+1)\n",
    "ax.legend(loc=\"lower right\")\n",
    "plt.savefig(\"../final_report/img/test_plot_corrmatrix.png\")\n",
    "plt.show()\n"
   ],
   "metadata": {
    "collapsed": false,
    "pycharm": {
     "name": "#%%\n"
    }
   }
  },
  {
   "cell_type": "markdown",
   "source": [
    "# Repeating the experiment with connectivity matrices (correlation matrices transformed with Fisher's z-transform)"
   ],
   "metadata": {
    "collapsed": false,
    "pycharm": {
     "name": "#%% md\n"
    }
   }
  },
  {
   "cell_type": "markdown",
   "source": [
    "## Training"
   ],
   "metadata": {
    "collapsed": false,
    "pycharm": {
     "name": "#%% md\n"
    }
   }
  },
  {
   "cell_type": "markdown",
   "source": [
    "### Logistic Regression"
   ],
   "metadata": {
    "collapsed": false,
    "pycharm": {
     "name": "#%% md\n"
    }
   }
  },
  {
   "cell_type": "code",
   "execution_count": 162,
   "outputs": [
    {
     "name": "stdout",
     "output_type": "stream",
     "text": [
      ">Accuracy=0.580 (train: 0.833), Best score=0.535, Best param={'C': 0.2}\n",
      ">Accuracy=0.594 (train: 0.833), Best score=0.541, Best param={'C': 0.2}\n",
      ">Accuracy=0.574 (train: 0.839), Best score=0.553, Best param={'C': 0.1}\n",
      ">Accuracy=0.574 (train: 0.825), Best score=0.548, Best param={'C': 0.3}\n",
      ">Accuracy=0.544 (train: 0.833), Best score=0.598, Best param={'C': 0.09}\n",
      "LR: Accuracy: mean 0.573 (std 0.016)\n"
     ]
    }
   ],
   "source": [
    "cv_outer = StratifiedKFold(n_splits=5, shuffle=True, random_state=1)\n",
    "\n",
    "outer_results_lr = []\n",
    "outer_results_train_lr = []\n",
    "best_models_lr_connectmatrix = []\n",
    "for train_ix, test_ix in cv_outer.split(X_train_transformed, y_train_transformed):\n",
    "    X_train_nested, X_test_nested = X_train_transformed[train_ix, :], X_train_transformed[test_ix, :]\n",
    "    y_train_nested, y_test_nested = y_train_transformed[train_ix], y_train_transformed[test_ix]\n",
    "    # configure the cross-validation procedure\n",
    "    cv_inner = RepeatedStratifiedKFold(n_splits=5, n_repeats=10)\n",
    "\n",
    "    model_lr =LogisticRegression(solver=\"liblinear\", penalty=\"l1\")\n",
    "    # define search space\n",
    "    # p_grid = {\"C\": [0.001, 0.005, 0.01, 0.05, 0.1, 0.5, 1, 5]}  # first try: best param was either 0.1 or 0.5 -> try to fine-tune around this range\n",
    "    p_grid = {\"C\": [0.09, 0.1, 0.2, 0.3, 0.4, 0.5, 0.6]}\n",
    "    # define search\n",
    "    clf_lr = GridSearchCV(estimator=model_lr, param_grid=p_grid, cv=cv_inner, scoring='accuracy', n_jobs=1, return_train_score=True, refit=True)\n",
    "    # execute search\n",
    "    result_lr = clf_lr.fit(X_train_nested, y_train_nested)\n",
    "    # get the best performing model fit on the whole training set\n",
    "    best_model_lr = result_lr.best_estimator_\n",
    "    yhat_lr = best_model_lr.predict(X_test_nested)\n",
    "    # evaluate the model\n",
    "    acc_lr = accuracy_score(y_test_nested, yhat_lr)\n",
    "    acc_train_lr = clf_lr.cv_results_['mean_train_score']\n",
    "    # store the result\n",
    "    best_models_lr_connectmatrix.append(best_model_lr)\n",
    "    outer_results_lr.append(acc_lr)\n",
    "    outer_results_train_lr.append(acc_train_lr)\n",
    "    # report progress\n",
    "    print('>Accuracy=%.3f (train: %.3f), Best score=%.3f, Best param=%s' % (acc_lr, mean(acc_train_lr), result_lr.best_score_, result_lr.best_params_))\n",
    "# summarize the estimated performance of the model\n",
    "print('LR: Accuracy: mean %.3f (std %.3f)' % (mean(outer_results_lr), std(outer_results_lr)))"
   ],
   "metadata": {
    "collapsed": false,
    "pycharm": {
     "name": "#%%\n"
    }
   }
  },
  {
   "cell_type": "markdown",
   "source": [
    "### SVM"
   ],
   "metadata": {
    "collapsed": false,
    "pycharm": {
     "name": "#%% md\n"
    }
   }
  },
  {
   "cell_type": "code",
   "execution_count": 163,
   "outputs": [
    {
     "name": "stdout",
     "output_type": "stream",
     "text": [
      ">Accuracy=0.522 (train: 0.930), Best score=0.554, Best param={'C': 0.007}\n",
      ">Accuracy=0.580 (train: 0.929), Best score=0.570, Best param={'C': 0.008}\n",
      ">Accuracy=0.544 (train: 0.937), Best score=0.558, Best param={'C': 0.011}\n",
      ">Accuracy=0.574 (train: 0.934), Best score=0.536, Best param={'C': 0.008}\n",
      ">Accuracy=0.544 (train: 0.941), Best score=0.572, Best param={'C': 0.013}\n",
      "SVM: Accuracy: mean 0.553 (std 0.021)\n"
     ]
    }
   ],
   "source": [
    "cv_outer = StratifiedKFold(n_splits=5, shuffle=True, random_state=1)\n",
    "\n",
    "outer_results_svm = []\n",
    "outer_results_train_svm = []\n",
    "best_models_svm_connectmatrix = []\n",
    "for train_ix, test_ix in cv_outer.split(X_train_transformed, y_train_transformed):\n",
    "    X_train_nested, X_test_nested = X_train_transformed[train_ix, :], X_train_transformed[test_ix, :]\n",
    "    y_train_nested, y_test_nested = y_train_transformed[train_ix], y_train_transformed[test_ix]\n",
    "    # configure the cross-validation procedure\n",
    "    cv_inner = RepeatedStratifiedKFold(n_splits=5, n_repeats=10)\n",
    "\n",
    "    model_svm = SVC(kernel=\"linear\")\n",
    "    # define search space\n",
    "    # p_grid = {\"C\": [0.001, 0.005, 0.01, 0.05, 0.1, 0.5, 1, 5]}  # first try: best param was 0.01 -> try to fine-tune around this range\n",
    "    p_grid = {\"C\": [0.007, 0.008, 0.009, 0.01, 0.011, 0.012, 0.013]}    # define search\n",
    "    clf_svm = GridSearchCV(estimator=model_svm, param_grid=p_grid, cv=cv_inner, return_train_score=True,  n_jobs=1, refit=True)\n",
    "    # execute search\n",
    "    result_svm = clf_svm.fit(X_train_nested, y_train_nested)\n",
    "    # get the best performing model fit on the whole training set\n",
    "    best_model_svm = result_svm.best_estimator_\n",
    "    yhat_svm = best_model_svm.predict(X_test_nested)\n",
    "    # evaluate the model\n",
    "    acc_svm = accuracy_score(y_test_nested, yhat_svm)\n",
    "    acc_train_svm = clf_svm.cv_results_['mean_train_score']\n",
    "    # store the result\n",
    "    best_models_svm_connectmatrix.append(best_model_svm)\n",
    "    outer_results_svm.append(acc_svm)\n",
    "    outer_results_train_svm.append(acc_train_svm)\n",
    "    # report progress\n",
    "    print('>Accuracy=%.3f (train: %.3f), Best score=%.3f, Best param=%s' % (acc_svm, mean(acc_train_svm), result_svm.best_score_, result_svm.best_params_))\n",
    "# summarize the estimated performance of the model\n",
    "print('SVM: Accuracy: mean %.3f (std %.3f)' % (mean(outer_results_svm), std(outer_results_svm)))"
   ],
   "metadata": {
    "collapsed": false,
    "pycharm": {
     "name": "#%%\n"
    }
   }
  },
  {
   "cell_type": "markdown",
   "source": [
    "## Testing"
   ],
   "metadata": {
    "collapsed": false,
    "pycharm": {
     "name": "#%% md\n"
    }
   }
  },
  {
   "cell_type": "code",
   "execution_count": 164,
   "outputs": [
    {
     "data": {
      "text/plain": "[0.4444444444444444,\n 0.48148148148148145,\n 0.5925925925925926,\n 0.37037037037037035,\n 0.5555555555555556]"
     },
     "execution_count": 164,
     "metadata": {},
     "output_type": "execute_result"
    }
   ],
   "source": [
    "scores_f_lr = []\n",
    "for model in best_models_lr_connectmatrix:\n",
    "    pred_f = model.predict(X_females_test)\n",
    "    acc_f = accuracy_score(y_females_test, pred_f)\n",
    "    scores_f_lr.append(acc_f)\n",
    "scores_f_lr"
   ],
   "metadata": {
    "collapsed": false,
    "pycharm": {
     "name": "#%%\n"
    }
   }
  },
  {
   "cell_type": "code",
   "execution_count": 165,
   "outputs": [
    {
     "data": {
      "text/plain": "[0.6764705882352942,\n 0.5588235294117647,\n 0.6176470588235294,\n 0.6176470588235294,\n 0.5588235294117647]"
     },
     "execution_count": 165,
     "metadata": {},
     "output_type": "execute_result"
    }
   ],
   "source": [
    "scores_m_lr = []\n",
    "for model in best_models_lr_connectmatrix:\n",
    "    pred_m = model.predict(X_males_test)\n",
    "    acc_m = accuracy_score(y_males_test, pred_m)\n",
    "    scores_m_lr.append(acc_m)\n",
    "scores_m_lr"
   ],
   "metadata": {
    "collapsed": false,
    "pycharm": {
     "name": "#%%\n"
    }
   }
  },
  {
   "cell_type": "code",
   "execution_count": 166,
   "outputs": [
    {
     "data": {
      "text/plain": "[0.4444444444444444,\n 0.5555555555555556,\n 0.5185185185185185,\n 0.48148148148148145,\n 0.5555555555555556]"
     },
     "execution_count": 166,
     "metadata": {},
     "output_type": "execute_result"
    }
   ],
   "source": [
    "scores_f_svm = []\n",
    "for model in best_models_svm_connectmatrix:\n",
    "    pred_f = model.predict(X_females_test)\n",
    "    acc_f = accuracy_score(y_females_test, pred_f)\n",
    "    scores_f_svm.append(acc_f)\n",
    "scores_f_svm"
   ],
   "metadata": {
    "collapsed": false,
    "pycharm": {
     "name": "#%%\n"
    }
   }
  },
  {
   "cell_type": "code",
   "execution_count": 167,
   "outputs": [
    {
     "data": {
      "text/plain": "[0.6470588235294118,\n 0.5588235294117647,\n 0.6470588235294118,\n 0.6176470588235294,\n 0.5588235294117647]"
     },
     "execution_count": 167,
     "metadata": {},
     "output_type": "execute_result"
    }
   ],
   "source": [
    "scores_m_svm = []\n",
    "for model in best_models_svm_connectmatrix:\n",
    "    pred_m = model.predict(X_males_test)\n",
    "    acc_m = accuracy_score(y_males_test, pred_m)\n",
    "    scores_m_svm.append(acc_m)\n",
    "scores_m_svm"
   ],
   "metadata": {
    "collapsed": false,
    "pycharm": {
     "name": "#%%\n"
    }
   }
  },
  {
   "cell_type": "code",
   "execution_count": 168,
   "outputs": [
    {
     "data": {
      "text/plain": "<Figure size 432x288 with 1 Axes>",
      "image/png": "[encoded data removed]"
     },
     "metadata": {
      "needs_background": "light"
     },
     "output_type": "display_data"
    }
   ],
   "source": [
    "index = np.arange(len(scores_m_lr))\n",
    "bar_width = 0.15\n",
    "\n",
    "fig, ax = plt.subplots()\n",
    "lr_m = ax.bar(index, scores_m_lr, bar_width,\n",
    "                label=\"LR on males\", color='royalblue')\n",
    "\n",
    "svm_m = ax.bar(index+bar_width, scores_m_svm, bar_width,\n",
    "                label=\"SVM on males\", color=\"cornflowerblue\")\n",
    "\n",
    "lr_f = ax.bar(index+2.6*bar_width, scores_f_lr,\n",
    "                 bar_width, label=\"LR on females\", color=\"palevioletred\")\n",
    "\n",
    "svm_f = ax.bar(index+3.6*bar_width, scores_f_svm,\n",
    "                 bar_width, label=\"SVM on females\", color=\"lightpink\")\n",
    "\n",
    "ax.set_xlabel('Models')\n",
    "ax.set_ylabel('Accuracy')\n",
    "ax.set_title('Comparison of testing accuracy by classifier and by sex')\n",
    "ax.set_xticks(index + 3.6*bar_width / 2)\n",
    "ax.set_xticklabels(np.arange(len(scores_m_lr))+1)\n",
    "ax.legend(loc=\"lower right\")\n",
    "\n",
    "plt.savefig(\"../final_report/img/test_plot_connectmatrix.png\")\n",
    "plt.show()\n"
   ],
   "metadata": {
    "collapsed": false,
    "pycharm": {
     "name": "#%%\n"
    }
   }
  }
 ],
 "metadata": {
  "kernelspec": {
   "display_name": "Python 3",
   "language": "python",
   "name": "python3"
  },
  "language_info": {
   "codemirror_mode": {
    "name": "ipython",
    "version": 2
   },
   "file_extension": ".py",
   "mimetype": "text/x-python",
   "name": "python",
   "nbconvert_exporter": "python",
   "pygments_lexer": "ipython2",
   "version": "2.7.6"
  }
 },
 "nbformat": 4,
 "nbformat_minor": 0
}