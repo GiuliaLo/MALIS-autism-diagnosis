{
 "cells": [
  {
   "cell_type": "markdown",
   "source": [
    "## Importing the data"
   ],
   "metadata": {
    "collapsed": false,
    "pycharm": {
     "name": "#%% md\n"
    }
   }
  },
  {
   "cell_type": "code",
   "execution_count": 2,
   "outputs": [
    {
     "name": "stdout",
     "output_type": "stream",
     "text": [
      "females 175\n",
      "males 513\n",
      "females_autistic 47\n",
      "males_autistic 257\n",
      "males_control 256\n"
     ]
    }
   ],
   "source": [
    "import pandas as pd\n",
    "import numpy as np\n",
    "labels_path = \"/home/nap-smasher/Documents/malis-project-autism/ABIDEII/ABIDEII_Composite_Phenotypic.csv\"\n",
    "df_pheno = pd.read_csv(labels_path, encoding=\"unicode_escape\")\n",
    "selection = df_pheno[(df_pheno['AGE_AT_SCAN '] <= 40) & (df_pheno['FIQ'] >= 80)]    # add check for FIQ = NaN\n",
    "selection = selection[['SEX','DX_GROUP','SUB_ID']]\n",
    "has_fmri_path = \"/home/nap-smasher/Documents/malis-project-autism/preprocessing/with_func.txt\"\n",
    "with open(has_fmri_path) as f:\n",
    "    has_fmri = f.read().splitlines()\n",
    "# remove subjects that don't have fMRI\n",
    "selection = selection[selection['SUB_ID'].isin(list(map(int,has_fmri)))]\n",
    "'''\n",
    "get only as many males as females and make sure to maintain proportion of autistic and controls\n",
    "'''\n",
    "## Total Females-Males\n",
    "females = selection[selection['SEX'] == 2]\n",
    "males = selection[selection['SEX'] == 1]\n",
    "print(\"females\", len(females))\n",
    "print(\"males\", len(males))\n",
    "## Autistic Females-Males\n",
    "females_autistic = females[females['DX_GROUP'] == 1]\n",
    "males_autistic = males[males['DX_GROUP'] == 1]\n",
    "males_control = males[males['DX_GROUP'] == 2]\n",
    "print(\"females_autistic\", len(females_autistic))\n",
    "print(\"males_autistic\", len(males_autistic))\n",
    "print(\"males_control\", len(males_control))\n",
    "# therefore we need len(females_autistic) control males and len(females)-len(females_autistic) autistic males\n",
    "# remove: #males-#autistic_females and #males\n",
    "ma_to_remove = np.random.choice(males_autistic.index, size=129, replace=False)\n",
    "mc_to_remove = np.random.choice(males_control.index, size=209, replace=False)\n",
    "selection = selection.drop(ma_to_remove)\n",
    "selection = selection.drop(mc_to_remove)\n",
    "labels = selection[['SUB_ID','DX_GROUP']]\n",
    "# labels_dict = labels.set_index('SUB_ID').T.to_dict('list')"
   ],
   "metadata": {
    "collapsed": false,
    "pycharm": {
     "name": "#%%\n"
    }
   }
  },
  {
   "cell_type": "code",
   "execution_count": 3,
   "outputs": [
    {
     "name": "stdout",
     "output_type": "stream",
     "text": [
      "females_autistic 47\n",
      "females_control 128\n",
      "males_autistic 128\n",
      "males_control 47\n"
     ]
    }
   ],
   "source": [
    "females = selection[selection['SEX'] == 2]\n",
    "males = selection[selection['SEX'] == 1]\n",
    "females_autistic = females[females['DX_GROUP'] == 1]\n",
    "females_control = females[females['DX_GROUP'] == 2]\n",
    "males_autistic = males[males['DX_GROUP'] == 1]\n",
    "males_control = males[males['DX_GROUP'] == 2]\n",
    "print(\"females_autistic\", len(females_autistic))\n",
    "print(\"females_control\", len(females_control))\n",
    "print(\"males_autistic\", len(males_autistic))\n",
    "print(\"males_control\", len(males_control))"
   ],
   "metadata": {
    "collapsed": false,
    "pycharm": {
     "name": "#%%\n"
    }
   }
  },
  {
   "cell_type": "markdown",
   "source": [
    "**Checking what I have already:**"
   ],
   "metadata": {
    "collapsed": false,
    "pycharm": {
     "name": "#%% md\n"
    }
   }
  },
  {
   "cell_type": "code",
   "execution_count": 4,
   "outputs": [],
   "source": [
    "with open(\"/home/nap-smasher/Downloads/subj_list1.txt\", \"r\") as f:\n",
    "    sub_list1 = f.read().splitlines()\n",
    "with open(\"/home/nap-smasher/Downloads/subj_list2.txt\", \"r\") as f:\n",
    "    sub_list2 = f.read().splitlines()\n",
    "with open(\"/home/nap-smasher/Downloads/subj_list3.txt\", \"r\") as f:\n",
    "    sub_list3 = f.read().splitlines()\n",
    "sub_list = sub_list1+sub_list2+sub_list3"
   ],
   "metadata": {
    "collapsed": false,
    "pycharm": {
     "name": "#%%\n"
    }
   }
  },
  {
   "cell_type": "code",
   "execution_count": 5,
   "outputs": [
    {
     "data": {
      "text/plain": "           SITE_ID  SUB_ID NDAR_GUID  DX_GROUP  PDD_DSM_IV_TR  ASD_DSM_5  \\\n12   ABIDEII-BNI_1   29028       NaN         1            NaN        NaN   \n14   ABIDEII-BNI_1   29030       NaN         1            NaN        NaN   \n15   ABIDEII-BNI_1   29031       NaN         1            NaN        NaN   \n21   ABIDEII-BNI_1   29046       NaN         1            NaN        NaN   \n39   ABIDEII-BNI_1   29032       NaN         2            NaN        NaN   \n..             ...     ...       ...       ...            ...        ...   \n967  ABIDEII-TCD_1   29116       NaN         1            2.0        NaN   \n974  ABIDEII-TCD_1   29123       NaN         2            0.0        NaN   \n976  ABIDEII-TCD_1   29125       NaN         2            0.0        NaN   \n979  ABIDEII-TCD_1   29128       NaN         2            0.0        NaN   \n988  ABIDEII-TCD_1   29137       NaN         2            0.0        NaN   \n\n     AGE_AT_SCAN   SEX  HANDEDNESS_CATEGORY  HANDEDNESS_SCORES  ...  \\\n12           21.0    1                  1.0                NaN  ...   \n14           18.0    1                  1.0                NaN  ...   \n15           21.0    1                  1.0                NaN  ...   \n21           18.0    1                  1.0                NaN  ...   \n39           20.0    1                  1.0                NaN  ...   \n..            ...  ...                  ...                ...  ...   \n967          10.0    1                  1.0                NaN  ...   \n974          13.5    1                  1.0                NaN  ...   \n976          13.0    1                  1.0                NaN  ...   \n979          20.0    1                  1.0                NaN  ...   \n988          13.5    1                  1.0                NaN  ...   \n\n     ADI_R_C4_UNUSUAL_SENSORY_INTERESTS  ADI_R_C4_TOTAL  \\\n12                                  NaN             NaN   \n14                                  NaN             NaN   \n15                                  NaN             NaN   \n21                                  NaN             NaN   \n39                                  NaN             NaN   \n..                                  ...             ...   \n967                                 NaN             NaN   \n974                                 NaN             NaN   \n976                                 NaN             NaN   \n979                                 NaN             NaN   \n988                                 NaN             NaN   \n\n     ADI_R_D_AGE_PARENT_NOTICED ADI_R_D_AGE_FIRST_SINGLE_WORDS  \\\n12                          NaN                            NaN   \n14                          NaN                            NaN   \n15                          NaN                            NaN   \n21                          NaN                            NaN   \n39                          NaN                            NaN   \n..                          ...                            ...   \n967                         NaN                            NaN   \n974                         NaN                            NaN   \n976                         NaN                            NaN   \n979                         NaN                            NaN   \n988                         NaN                            NaN   \n\n    ADI_R_D_AGE_FIRST_PHRASES ADI_R_D_AGE_WHEN_ABNORMALITY  \\\n12                        NaN                          NaN   \n14                        NaN                          NaN   \n15                        NaN                          NaN   \n21                        NaN                          NaN   \n39                        NaN                          NaN   \n..                        ...                          ...   \n967                       NaN                          NaN   \n974                       NaN                          NaN   \n976                       NaN                          NaN   \n979                       NaN                          NaN   \n988                       NaN                          NaN   \n\n     ADI_R_D_INTERVIEWER_JUDGMENT  Unnamed: 348  Unnamed: 349  Unnamed: 350  \n12                            NaN           NaN           NaN           NaN  \n14                            NaN           NaN           NaN           NaN  \n15                            NaN           NaN           NaN           NaN  \n21                            NaN           NaN           NaN           NaN  \n39                            NaN           NaN           NaN           NaN  \n..                            ...           ...           ...           ...  \n967                           NaN           NaN           NaN           NaN  \n974                           NaN           NaN           NaN           NaN  \n976                           NaN           NaN           NaN           NaN  \n979                           NaN           NaN           NaN           NaN  \n988                           NaN           NaN           NaN           NaN  \n\n[317 rows x 351 columns]",
      "text/html": "<div>\n<style scoped>\n    .dataframe tbody tr th:only-of-type {\n        vertical-align: middle;\n    }\n\n    .dataframe tbody tr th {\n        vertical-align: top;\n    }\n\n    .dataframe thead th {\n        text-align: right;\n    }\n</style>\n<table border=\"1\" class=\"dataframe\">\n  <thead>\n    <tr style=\"text-align: right;\">\n      <th></th>\n      <th>SITE_ID</th>\n      <th>SUB_ID</th>\n      <th>NDAR_GUID</th>\n      <th>DX_GROUP</th>\n      <th>PDD_DSM_IV_TR</th>\n      <th>ASD_DSM_5</th>\n      <th>AGE_AT_SCAN</th>\n      <th>SEX</th>\n      <th>HANDEDNESS_CATEGORY</th>\n      <th>HANDEDNESS_SCORES</th>\n      <th>...</th>\n      <th>ADI_R_C4_UNUSUAL_SENSORY_INTERESTS</th>\n      <th>ADI_R_C4_TOTAL</th>\n      <th>ADI_R_D_AGE_PARENT_NOTICED</th>\n      <th>ADI_R_D_AGE_FIRST_SINGLE_WORDS</th>\n      <th>ADI_R_D_AGE_FIRST_PHRASES</th>\n      <th>ADI_R_D_AGE_WHEN_ABNORMALITY</th>\n      <th>ADI_R_D_INTERVIEWER_JUDGMENT</th>\n      <th>Unnamed: 348</th>\n      <th>Unnamed: 349</th>\n      <th>Unnamed: 350</th>\n    </tr>\n  </thead>\n  <tbody>\n    <tr>\n      <th>12</th>\n      <td>ABIDEII-BNI_1</td>\n      <td>29028</td>\n      <td>NaN</td>\n      <td>1</td>\n      <td>NaN</td>\n      <td>NaN</td>\n      <td>21.0</td>\n      <td>1</td>\n      <td>1.0</td>\n      <td>NaN</td>\n      <td>...</td>\n      <td>NaN</td>\n      <td>NaN</td>\n      <td>NaN</td>\n      <td>NaN</td>\n      <td>NaN</td>\n      <td>NaN</td>\n      <td>NaN</td>\n      <td>NaN</td>\n      <td>NaN</td>\n      <td>NaN</td>\n    </tr>\n    <tr>\n      <th>14</th>\n      <td>ABIDEII-BNI_1</td>\n      <td>29030</td>\n      <td>NaN</td>\n      <td>1</td>\n      <td>NaN</td>\n      <td>NaN</td>\n      <td>18.0</td>\n      <td>1</td>\n      <td>1.0</td>\n      <td>NaN</td>\n      <td>...</td>\n      <td>NaN</td>\n      <td>NaN</td>\n      <td>NaN</td>\n      <td>NaN</td>\n      <td>NaN</td>\n      <td>NaN</td>\n      <td>NaN</td>\n      <td>NaN</td>\n      <td>NaN</td>\n      <td>NaN</td>\n    </tr>\n    <tr>\n      <th>15</th>\n      <td>ABIDEII-BNI_1</td>\n      <td>29031</td>\n      <td>NaN</td>\n      <td>1</td>\n      <td>NaN</td>\n      <td>NaN</td>\n      <td>21.0</td>\n      <td>1</td>\n      <td>1.0</td>\n      <td>NaN</td>\n      <td>...</td>\n      <td>NaN</td>\n      <td>NaN</td>\n      <td>NaN</td>\n      <td>NaN</td>\n      <td>NaN</td>\n      <td>NaN</td>\n      <td>NaN</td>\n      <td>NaN</td>\n      <td>NaN</td>\n      <td>NaN</td>\n    </tr>\n    <tr>\n      <th>21</th>\n      <td>ABIDEII-BNI_1</td>\n      <td>29046</td>\n      <td>NaN</td>\n      <td>1</td>\n      <td>NaN</td>\n      <td>NaN</td>\n      <td>18.0</td>\n      <td>1</td>\n      <td>1.0</td>\n      <td>NaN</td>\n      <td>...</td>\n      <td>NaN</td>\n      <td>NaN</td>\n      <td>NaN</td>\n      <td>NaN</td>\n      <td>NaN</td>\n      <td>NaN</td>\n      <td>NaN</td>\n      <td>NaN</td>\n      <td>NaN</td>\n      <td>NaN</td>\n    </tr>\n    <tr>\n      <th>39</th>\n      <td>ABIDEII-BNI_1</td>\n      <td>29032</td>\n      <td>NaN</td>\n      <td>2</td>\n      <td>NaN</td>\n      <td>NaN</td>\n      <td>20.0</td>\n      <td>1</td>\n      <td>1.0</td>\n      <td>NaN</td>\n      <td>...</td>\n      <td>NaN</td>\n      <td>NaN</td>\n      <td>NaN</td>\n      <td>NaN</td>\n      <td>NaN</td>\n      <td>NaN</td>\n      <td>NaN</td>\n      <td>NaN</td>\n      <td>NaN</td>\n      <td>NaN</td>\n    </tr>\n    <tr>\n      <th>...</th>\n      <td>...</td>\n      <td>...</td>\n      <td>...</td>\n      <td>...</td>\n      <td>...</td>\n      <td>...</td>\n      <td>...</td>\n      <td>...</td>\n      <td>...</td>\n      <td>...</td>\n      <td>...</td>\n      <td>...</td>\n      <td>...</td>\n      <td>...</td>\n      <td>...</td>\n      <td>...</td>\n      <td>...</td>\n      <td>...</td>\n      <td>...</td>\n      <td>...</td>\n      <td>...</td>\n    </tr>\n    <tr>\n      <th>967</th>\n      <td>ABIDEII-TCD_1</td>\n      <td>29116</td>\n      <td>NaN</td>\n      <td>1</td>\n      <td>2.0</td>\n      <td>NaN</td>\n      <td>10.0</td>\n      <td>1</td>\n      <td>1.0</td>\n      <td>NaN</td>\n      <td>...</td>\n      <td>NaN</td>\n      <td>NaN</td>\n      <td>NaN</td>\n      <td>NaN</td>\n      <td>NaN</td>\n      <td>NaN</td>\n      <td>NaN</td>\n      <td>NaN</td>\n      <td>NaN</td>\n      <td>NaN</td>\n    </tr>\n    <tr>\n      <th>974</th>\n      <td>ABIDEII-TCD_1</td>\n      <td>29123</td>\n      <td>NaN</td>\n      <td>2</td>\n      <td>0.0</td>\n      <td>NaN</td>\n      <td>13.5</td>\n      <td>1</td>\n      <td>1.0</td>\n      <td>NaN</td>\n      <td>...</td>\n      <td>NaN</td>\n      <td>NaN</td>\n      <td>NaN</td>\n      <td>NaN</td>\n      <td>NaN</td>\n      <td>NaN</td>\n      <td>NaN</td>\n      <td>NaN</td>\n      <td>NaN</td>\n      <td>NaN</td>\n    </tr>\n    <tr>\n      <th>976</th>\n      <td>ABIDEII-TCD_1</td>\n      <td>29125</td>\n      <td>NaN</td>\n      <td>2</td>\n      <td>0.0</td>\n      <td>NaN</td>\n      <td>13.0</td>\n      <td>1</td>\n      <td>1.0</td>\n      <td>NaN</td>\n      <td>...</td>\n      <td>NaN</td>\n      <td>NaN</td>\n      <td>NaN</td>\n      <td>NaN</td>\n      <td>NaN</td>\n      <td>NaN</td>\n      <td>NaN</td>\n      <td>NaN</td>\n      <td>NaN</td>\n      <td>NaN</td>\n    </tr>\n    <tr>\n      <th>979</th>\n      <td>ABIDEII-TCD_1</td>\n      <td>29128</td>\n      <td>NaN</td>\n      <td>2</td>\n      <td>0.0</td>\n      <td>NaN</td>\n      <td>20.0</td>\n      <td>1</td>\n      <td>1.0</td>\n      <td>NaN</td>\n      <td>...</td>\n      <td>NaN</td>\n      <td>NaN</td>\n      <td>NaN</td>\n      <td>NaN</td>\n      <td>NaN</td>\n      <td>NaN</td>\n      <td>NaN</td>\n      <td>NaN</td>\n      <td>NaN</td>\n      <td>NaN</td>\n    </tr>\n    <tr>\n      <th>988</th>\n      <td>ABIDEII-TCD_1</td>\n      <td>29137</td>\n      <td>NaN</td>\n      <td>2</td>\n      <td>0.0</td>\n      <td>NaN</td>\n      <td>13.5</td>\n      <td>1</td>\n      <td>1.0</td>\n      <td>NaN</td>\n      <td>...</td>\n      <td>NaN</td>\n      <td>NaN</td>\n      <td>NaN</td>\n      <td>NaN</td>\n      <td>NaN</td>\n      <td>NaN</td>\n      <td>NaN</td>\n      <td>NaN</td>\n      <td>NaN</td>\n      <td>NaN</td>\n    </tr>\n  </tbody>\n</table>\n<p>317 rows × 351 columns</p>\n</div>"
     },
     "execution_count": 5,
     "metadata": {},
     "output_type": "execute_result"
    }
   ],
   "source": [
    "df2 = df_pheno[(df_pheno['AGE_AT_SCAN '] <= 40) & (df_pheno['FIQ'] >= 80) & (df_pheno['SUB_ID'].isin(list(map(int, sub_list)))) & (df_pheno['SUB_ID'].isin(list(map(int,has_fmri))))]\n",
    "df2"
   ],
   "metadata": {
    "collapsed": false,
    "pycharm": {
     "name": "#%%\n"
    }
   }
  },
  {
   "cell_type": "code",
   "execution_count": 6,
   "outputs": [
    {
     "name": "stdout",
     "output_type": "stream",
     "text": [
      "len(ma)=95\n",
      "len(mc)=47\n",
      "len(fa)=47\n",
      "len(fc)=128\n"
     ]
    }
   ],
   "source": [
    "ma = df2[(df2['SEX'] == 1) & (df2['DX_GROUP'] == 1)]\n",
    "mc = df2[(df2['SEX'] == 1) & (df2['DX_GROUP'] == 2)]\n",
    "fa = df2[(df2['SEX'] == 2) & (df2['DX_GROUP'] == 1)]\n",
    "fc = df2[(df2['SEX'] == 2) & (df2['DX_GROUP'] == 2)]\n",
    "print(f'{len(ma)=}')\n",
    "print(f'{len(mc)=}')\n",
    "print(f'{len(fa)=}')\n",
    "print(f'{len(fc)=}')"
   ],
   "metadata": {
    "collapsed": false,
    "pycharm": {
     "name": "#%%\n"
    }
   }
  },
  {
   "cell_type": "code",
   "execution_count": 12,
   "outputs": [],
   "source": [
    "# I need 33 more autistic males\n",
    "not_chosen_ma = selection[(selection['SEX'] == 1) & (selection['DX_GROUP'] == 1) & (~selection['SUB_ID'].isin(list(ma['SUB_ID'])))]['SUB_ID']\n",
    "ix = np.random.choice(not_chosen_ma.index, size=33, replace=False)\n",
    "with open(\"/home/nap-smasher/Downloads/subj_list_extra.txt\", \"w\") as f:\n",
    "    f.writelines(\"\\n\".join(list(map(str,not_chosen_ma.loc[ix]))))"
   ],
   "metadata": {
    "collapsed": false,
    "pycharm": {
     "name": "#%%\n"
    }
   }
  }
 ],
 "metadata": {
  "kernelspec": {
   "display_name": "Python 3",
   "language": "python",
   "name": "python3"
  },
  "language_info": {
   "codemirror_mode": {
    "name": "ipython",
    "version": 2
   },
   "file_extension": ".py",
   "mimetype": "text/x-python",
   "name": "python",
   "nbconvert_exporter": "python",
   "pygments_lexer": "ipython2",
   "version": "2.7.6"
  }
 },
 "nbformat": 4,
 "nbformat_minor": 0
}